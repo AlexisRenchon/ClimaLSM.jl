{
 "cells": [
  {
   "cell_type": "code",
   "execution_count": 1,
   "id": "575091ce",
   "metadata": {},
   "outputs": [
    {
     "name": "stderr",
     "output_type": "stream",
     "text": [
      "\u001b[32m\u001b[1m  Activating\u001b[22m\u001b[39m project at `~/.julia/dev/ClimaLSM.jl`\n"
     ]
    },
    {
     "data": {
      "text/plain": [
       "Plots.PyPlotBackend()"
      ]
     },
     "execution_count": 1,
     "metadata": {},
     "output_type": "execute_result"
    }
   ],
   "source": [
    "using Pkg\n",
    "Pkg.activate(\"../..\")\n",
    "using ClimaLSM\n",
    "using NetCDF\n",
    "using Statistics\n",
    "using ClimaCore\n",
    "using CSV\n",
    "using DataFrames\n",
    "using OrdinaryDiffEq: solve, DiscreteProblem, FunctionMap\n",
    "using Plots\n",
    "Plots.pyplot()"
   ]
  },
  {
   "cell_type": "code",
   "execution_count": 2,
   "id": "15f24ac9",
   "metadata": {},
   "outputs": [],
   "source": [
    "using DocStringExtensions"
   ]
  },
  {
   "cell_type": "code",
   "execution_count": 3,
   "id": "cd24d68c",
   "metadata": {},
   "outputs": [],
   "source": [
    "\"\"\"\n",
    "    AbstractDALECParameters{FT <: AbstractFloat}\n",
    "\n",
    "An abstract type of DALEC Parameters.\n",
    "\"\"\"\n",
    "abstract type AbstractDALECParameters{FT <:AbstractFloat} end\n",
    "\n",
    "# Generic DALEC model\n",
    "\n",
    "\"\"\"\n",
    "DALECModel{FT <: AbstractFloat}\n",
    "\n",
    "A generic DALEC Model.\n",
    "\"\"\"\n",
    "struct DALECModel{FTT, A, R, F, T, P, PA, D} <: AbstractModel{FTT}\n",
    "    # drivers\n",
    "    atmos::A\n",
    "    rad::R\n",
    "    fire::F\n",
    "    temporal::T\n",
    "    # submodels\n",
    "    photosynthesis::P\n",
    "    # parameters\n",
    "    parameters::PA\n",
    "    # domain\n",
    "    domain::D\n",
    "    # DALEC ID\n",
    "    id::Symbol\n",
    "    FT::Type{FTT}\n",
    "end\n",
    "\n",
    "ClimaLSM.name(model::DALECModel) = model.id\n",
    "ClimaLSM.domain(::DALECModel) = :surface\n"
   ]
  },
  {
   "cell_type": "code",
   "execution_count": 4,
   "id": "120ab3ae",
   "metadata": {},
   "outputs": [],
   "source": [
    "function ClimaLSM.prognostic_vars(model::DALECModel)\n",
    "    return (:LAI, :GPP, :ET, :temperate, :respiration_auto, :leaf_production, :labile_production, \n",
    "    :root_production, :wood_production, :lff, :lrf, :labile_release, :leaf_litter, :wood_litter,\n",
    "      :root_litter, :respiration_hetero_litter, :respiration_hetero_som, :litter_to_som, :runoff,\n",
    "       :labile_fire_combust, :foliar_fire_combust, :root_fire_combust, :wood_fire_combust,\n",
    "        :litter_fire_combust, :som_fire_combust, :labile_fire_transfer, :foliar_fire_transfer,\n",
    "         :root_fire_transfer, :wood_fire_transfer, :litter_fire_transfer, :total_fire_combust,\n",
    "          :nee, :next_labile_pool, :next_foliar_pool, :next_root_pool, :next_wood_pool, :next_litter_pool,\n",
    "          :next_som_pool, :next_water_pool)\n",
    "end\n",
    "\n",
    "function ClimaLSM.prognostic_types(model::DALECModel{FT, A, R, F, T, P, PA, D}) where{FT, A, R, F, T, P, PA, D}\n",
    "    return (FT, FT, FT, FT, FT, FT, FT, FT, FT, FT, FT, FT, FT,\n",
    "    FT, FT, FT, FT, FT, FT, FT, FT, FT, FT, FT, FT, FT, FT, FT, FT, FT, FT, FT, FT, FT, FT, FT, FT, FT, FT);\n",
    "end\n",
    "\n",
    "\n",
    "function ClimaLSM.auxiliary_vars(model::DALECModel)\n",
    "    return (:LAI, :GPP, :ET, :temperate, :respiration_auto, :leaf_production, :labile_production, \n",
    "    :root_production, :wood_production, :lff, :lrf, :labile_release, :leaf_litter, :wood_litter,\n",
    "      :root_litter, :respiration_hetero_litter, :respiration_hetero_som, :litter_to_som, :runoff,\n",
    "       :labile_fire_combust, :foliar_fire_combust, :root_fire_combust, :wood_fire_combust,\n",
    "        :litter_fire_combust, :som_fire_combust, :labile_fire_transfer, :foliar_fire_transfer,\n",
    "         :root_fire_transfer, :wood_fire_transfer, :litter_fire_transfer, :total_fire_combust,\n",
    "          :nee, :next_labile_pool, :next_foliar_pool, :next_root_pool, :next_wood_pool, :next_litter_pool,\n",
    "          :next_som_pool, :next_water_pool)\n",
    "end\n",
    "\n",
    "function ClimaLSM.auxiliary_types(model::DALECModel{FT, A, R, F, T, P, PA, D}) where {FT, A, R, F, T, P, PA, D}\n",
    "    return (FT, FT, FT, FT, FT, FT, FT, FT, FT, FT, FT, FT, FT,\n",
    "    FT, FT, FT, FT, FT, FT, FT, FT, FT, FT, FT, FT, FT, FT, FT, FT, FT, FT, FT, FT, FT, FT, FT, FT, FT, FT);\n",
    "end"
   ]
  },
  {
   "cell_type": "code",
   "execution_count": 5,
   "id": "c1e2972f",
   "metadata": {},
   "outputs": [],
   "source": [
    "struct ACM{FT <: AbstractFloat}\n",
    "    d1::FT\n",
    "    θ::FT\n",
    "    k::FT \n",
    "    d2::FT\n",
    "    b2::FT\n",
    "    c1::FT\n",
    "    a2::FT\n",
    "    c2::FT\n",
    "    eb1T::FT\n",
    "    ψ_d::FT\n",
    "    H::FT\n",
    "end\n",
    "\n",
    "function ACM(::Type{FT}) where {FT <: AbstractFloat}\n",
    "    d1 = FT(0.0156935) \n",
    "    θ = FT(4.22273)\n",
    "    k = FT(208.868)\n",
    "    d2 = FT(0.0453194)\n",
    "    b2 = FT(0.37836)\n",
    "    c1 = FT(7.19298)\n",
    "    a2 = FT(0.011136)\n",
    "    c2 = FT(2.1001)\n",
    "    eb1T = FT(0.789798)\n",
    "    ψ_d = FT(-2)\n",
    "    H = FT(1)\n",
    "    return ACM(d1, θ, k, d2, b2, c1, a2, c2, eb1T, ψ_d, H)\n",
    "end\n",
    "\n",
    "function (m::ACM{FT})(; lat, doy, t_max, t_min, lai, rad, ca, ce) where {FT}\n",
    "\n",
    "    # these parameters are directly from the ACM C files,\n",
    "    # which differ from the original\n",
    "    # implementation in Williams et al. (1997)\n",
    "    \n",
    "    # compute daily canopy conductance, gc\n",
    "    gc = (abs(m.ψ_d)^m.eb1T) / (m.b2 * m.H + FT(0.5) * (t_max - t_min))\n",
    "    \n",
    "    # compute p parameter needed for ci\n",
    "    p = lai .* FT(1) .* ce .* exp.(m.a2 .* t_max) ./ gc\n",
    " \n",
    "    \n",
    "    # compute the q parametefr needed for ci\n",
    "    q = m.θ .- m.k\n",
    "    \n",
    "    # compute the internal CO2 concentration, ci\n",
    "    ci = FT(0.5) .* (ca .+ q .- p .+ sqrt.((ca .+ q .- p).^FT(2) .- FT(4) .* (ca .* q .- p .* m.θ)))\n",
    "    #println(\"ACM ci: \", ci)\n",
    "    \n",
    "    # compute canopy-level quantum yield, e0\n",
    "    e0 = m.c1 .* (lai .^ FT(2)) ./ (m.c2 .+ lai .^ FT(2))\n",
    "    \n",
    "    # compute the day length dayl\n",
    "    dec = FT(-23.4) * cos((FT(360) * (doy + FT(10)) / FT(365)) * FT(π) / FT(180)) * FT(π) / FT(180)\n",
    "    mult = tan(lat * FT(π) / FT(180)) * tan(dec)\n",
    "    if mult >= FT(1)\n",
    "        dayl = FT(24)  \n",
    "    elseif mult <= -1 \n",
    "        dayl = FT(0)\n",
    "    else\n",
    "      dayl = FT(24) * FT(acos(-mult)) / FT(π)\n",
    "    end\n",
    "    \n",
    "    # compute co2 rate of diffusion to the site of fixation, pd\n",
    "    pd = gc .* (ca .- ci)\n",
    "    \n",
    "    # compute light limitation pi\n",
    "    pi = e0 .* rad .* pd ./ (e0 .* rad .+ pd)\n",
    "    \n",
    "    # compute gpp\n",
    "    gpp = pi .* (m.d1 .* dayl .+ m.d2)    \n",
    "    return gpp\n",
    "end"
   ]
  },
  {
   "cell_type": "code",
   "execution_count": 6,
   "id": "9a76f2d9",
   "metadata": {},
   "outputs": [
    {
     "data": {
      "text/plain": [
       "DALECModel"
      ]
     },
     "execution_count": 6,
     "metadata": {},
     "output_type": "execute_result"
    }
   ],
   "source": [
    "#include(\"./DALEC811.jl\")\n",
    "\n",
    "\"\"\"\n",
    "    DALEC811AtmosphericDrivers{FT <: AbstractFloat, TMIN, TMAX, C, V, P} <:AbstractAtmosphericDrivers{FT}  \n",
    "\n",
    "Atmospheric drivers for DALEC811 model.\n",
    "$(DocStringExtensions.FIELDS)\n",
    "\"\"\"\n",
    "struct DALEC811AtmosphericDrivers{T <: AbstractFloat, TMIN, TMAX, C, V, P} <:AbstractAtmosphericDrivers{T}  \n",
    "    T_MIN::TMIN\n",
    "    T_MAX::TMAX\n",
    "    ATMOSPHERIC_CO2::C\n",
    "    VPD::V\n",
    "    PRECIP::P\n",
    "    LATITUDE::T\n",
    "    MEAN_TEMP::T\n",
    "    MEAN_PRECIP::T\n",
    "    FT::Type{T}\n",
    "end\n",
    "\n",
    "\n",
    "\"\"\"\n",
    "    DALEC811RadiativeDrivers{FT <: AbstractFloat, SRD} <:AbstractRadiativeDrivers{FT}  \n",
    "\n",
    "Radiative drivers for the DALEC811 model.\n",
    "$(DocStringExtensions.FIELDS)\n",
    "\"\"\"\n",
    "struct DALEC811RadiativeDrivers{T <: AbstractFloat, SRD} <:AbstractRadiativeDrivers{T}  \n",
    "    SSRD::SRD\n",
    "    FT::Type{T}\n",
    "end\n",
    "\n",
    "\"\"\"\n",
    "    DALEC811FireDrivers{FT <: AbstractFloat, BURN} \n",
    "\n",
    "Fire drivers for the DALEC811 model.\n",
    "$(DocStringExtensions.FIELDS)\n",
    "\"\"\"\n",
    "struct DALEC811FireDrivers{T <: AbstractFloat, BURN} \n",
    "    BURNED_AREA::BURN\n",
    "    FT::Type{T}\n",
    "end\n",
    "\n",
    "\"\"\"\n",
    "    DALEC811TemporalDrivers{FT <: AbstractFloat, T, D}\n",
    "\n",
    "Temporal drivers for the DALEC811 model.\n",
    "$(DocStringExtensions.FIELDS)\n",
    "\"\"\"\n",
    "struct DALEC811TemporalDrivers{T <: AbstractFloat, TI, D, I}\n",
    "    TIME::TI\n",
    "    DOY::D\n",
    "    DELTA_T::T\n",
    "    NODAYS::I\n",
    "    FT::Type{T}\n",
    "end\n",
    "\n",
    "\"\"\"\n",
    "    DALEC811TemporalDrivers{FT <: AbstractFloat, T, D}\n",
    "\n",
    "Parameters for the DALEC811 model.\n",
    "$(DocStringExtensions.FIELDS)\n",
    "\"\"\"\n",
    "struct DALEC811Parameters{FT <: AbstractFloat} <: AbstractDALECParameters{FT} \n",
    "     # Trainable DALEC Parameters\n",
    "     decomposition_rate::FT\n",
    "     f_gpp::FT\n",
    "     f_fol::FT\n",
    "     f_root::FT\n",
    "     leaf_lifespan::FT\n",
    "     tor_wood::FT\n",
    "     tor_root::FT\n",
    "     tor_litter::FT\n",
    "     tor_som::FT\n",
    "     Q10::FT\n",
    "     canopy_efficiency::FT\n",
    "     Bday::FT\n",
    "     f_lab::FT\n",
    "     clab_release_period::FT\n",
    "     Fday::FT\n",
    "     leaf_fall_period::FT\n",
    "     LMCA::FT\n",
    "     Clab::FT\n",
    "     Cfol::FT\n",
    "     Croot::FT\n",
    "     Cwood::FT\n",
    "     Clitter::FT\n",
    "     Csom::FT\n",
    "     IWUE::FT\n",
    "     runoff_focal_point::FT\n",
    "     wilting_point::FT\n",
    "     initial_water::FT\n",
    "     foliar_cf::FT\n",
    "     ligneous_cf::FT\n",
    "     dom_cf::FT\n",
    "     resilience::FT\n",
    "     lab_lifespan::FT\n",
    "     moisture_factor::FT \n",
    "end\n",
    "\n",
    "\"\"\"\n",
    "    DALECModel(atmos::DALEC811AtmosphericDrivers{FT}, \n",
    "    rad::DALEC811RadiativeDrivers{FT},\n",
    "    fire::DALEC811FireDrivers{FT},\n",
    "    temporal::DALEC811TemporalDrivers{FT},\n",
    "    photosynthesis::ACM{FT}, \n",
    "    parameters::DALEC811Parameters, \n",
    "    domains::Union{\n",
    "        ClimaLSM.Domains.Point,\n",
    "        ClimaLSM.Domains.Plane,\n",
    "        ClimaLSM.Domains.SphericalSurface,\n",
    "    }) where {FT}\n",
    "\n",
    "Outer constructor for the DALEC811 model. \n",
    "$(DocStringExtensions.FIELDS)\n",
    "\"\"\"\n",
    "function DALECModel(atmos::DALEC811AtmosphericDrivers, \n",
    "    rad::DALEC811RadiativeDrivers,\n",
    "    fire::DALEC811FireDrivers,\n",
    "    temporal::DALEC811TemporalDrivers,\n",
    "    photosynthesis::ACM, \n",
    "    parameters::DALEC811Parameters{FT}, \n",
    "    domains::Union{\n",
    "        ClimaLSM.Domains.Point,\n",
    "        ClimaLSM.Domains.Plane,\n",
    "        ClimaLSM.Domains.SphericalSurface,\n",
    "    }) where {FT}\n",
    "    return DALECModel(atmos, rad, fire, temporal, photosynthesis, parameters, domains, :dalec811, FT)\n",
    "end"
   ]
  },
  {
   "cell_type": "code",
   "execution_count": 7,
   "id": "02b6c68d",
   "metadata": {},
   "outputs": [
    {
     "data": {
      "text/plain": [
       "ClimaLSM.make_rhs"
      ]
     },
     "execution_count": 7,
     "metadata": {},
     "output_type": "execute_result"
    }
   ],
   "source": [
    "\"\"\"\n",
    "    ClimaLSM.make_rhs(model::DALEC811{FT}) where {FT}\n",
    "\n",
    "The method extends ClimaLSM.make_rhs. The ode function is discrete and is expected to run on weekly to monthly temporal resolution.\n",
    "To intrage the model, the function should be cast in a DiscreteProblem and intetrated using FunctionMap{true} of the OrdinaryDiffEq module.\n",
    "\"\"\"\n",
    "function ClimaLSM.make_rhs(model::DALECModel{FT, A, R, F, T, P, PA, D}) where {FT, A, R, F, T, P, PA, D}\n",
    "    function rhs!(dY, Y, p, t)\n",
    "        \n",
    "        # normalize foliar pool by LCMA (leaf carbon mass per area) to obtain LAI. \n",
    "        @. p.dalec811.LAI = Y.dalec811.next_foliar_pool / model.parameters.LMCA\n",
    "        \n",
    "        raw_gpp = model.photosynthesis(lat = model.atmos.LATITUDE, doy = model.temporal.DOY(t), t_max = model.atmos.T_MAX(t),\n",
    "            t_min = model.atmos.T_MIN(t), lai = p.dalec811.LAI, rad = model.rad.SSRD(t),\n",
    "            ca = model.atmos.ATMOSPHERIC_CO2(t), ce = model.parameters.canopy_efficiency)\n",
    "        \n",
    "        # compute gpp FLUXES[0]\n",
    "        @.p.dalec811.GPP = raw_gpp .* min.(Y.dalec811.next_water_pool ./ model.parameters.wilting_point, 1)\n",
    "        \n",
    "        # compute ET_flux FLUXES[28]\n",
    "        @. p.dalec811.ET = p.dalec811.GPP * model.atmos.VPD(t) / model.parameters.IWUE \n",
    "        \n",
    "        # compute temperate FLUXES[1]\n",
    "        @. p.dalec811.temperate = exp(model.parameters.Q10 * (FT(0.5) * (model.atmos.T_MAX(t) + model.atmos.T_MIN(t)) - model.atmos.MEAN_TEMP)) * ((model.atmos.PRECIP(t) / model.atmos.MEAN_PRECIP - FT(1)) * model.parameters.moisture_factor + FT(1))\n",
    "        \n",
    "        # compute autotrophic respiration FLUXES[2]\n",
    "        @. p.dalec811.respiration_auto = model.parameters.f_gpp * p.dalec811.GPP\n",
    "        \n",
    "        # compute leaf production FLUXES[3]\n",
    "        @. p.dalec811.leaf_production = (p.dalec811.GPP - p.dalec811.respiration_auto) * model.parameters.f_fol\n",
    "        \n",
    "        # compute labile production FLUXES[4]\n",
    "        @. p.dalec811.labile_production = (p.dalec811.GPP - p.dalec811.respiration_auto - p.dalec811.leaf_production) * model.parameters.f_lab\n",
    "        \n",
    "        # compute root production FLUXES[5]\n",
    "        @. p.dalec811.root_production = (p.dalec811.GPP - p.dalec811.respiration_auto - p.dalec811.leaf_production - p.dalec811.labile_production) * model.parameters.f_root\n",
    "    \n",
    "        # compute wood production FLUXES[6]\n",
    "        @. p.dalec811.wood_production = p.dalec811.GPP -  p.dalec811.respiration_auto - p.dalec811.leaf_production - p.dalec811.labile_production - p.dalec811.root_production\n",
    "        \n",
    "        # compute leaf fall factor FLUXES[8]\n",
    "        @. p.dalec811.lff = leaf_fall_factor(model.temporal.TIME(t), model.parameters.leaf_lifespan, model.parameters.leaf_fall_period, model.parameters.Fday, FT)\n",
    "        \n",
    "        # compute labile release factor FLUXES[15]\n",
    "        @. p.dalec811.lrf = lab_release_factor(model.temporal.TIME(t), model.parameters.lab_lifespan, model.parameters.clab_release_period, model.parameters.Bday, FT)\n",
    "        \n",
    "        # compute labile release FLUXES[7]\n",
    "        @. p.dalec811.labile_release = Y.dalec811.next_labile_pool * (FT(1) - (FT(1) - p.dalec811.lrf) ^ model.temporal.DELTA_T) / model.temporal.DELTA_T\n",
    "        \n",
    "        # compute leaf litter production FLUXES[9]\n",
    "        @. p.dalec811.leaf_litter = Y.dalec811.next_foliar_pool * (FT(1) - (FT(1) - p.dalec811.lff) ^ model.temporal.DELTA_T) / model.temporal.DELTA_T\n",
    "        \n",
    "        # compute wood litter production FLUXES[10]\n",
    "        @. p.dalec811.wood_litter = Y.dalec811.next_wood_pool * (FT(1) - (FT(1) - model.parameters.tor_wood)^ model.temporal.DELTA_T) / model.temporal.DELTA_T\n",
    "\n",
    "        # compute root litter production FLUXES[11]\n",
    "        @. p.dalec811.root_litter = Y.dalec811.next_root_pool * (FT(1) - (FT(1) - model.parameters.tor_root) ^ model.temporal.DELTA_T) / model.temporal.DELTA_T\n",
    "        \n",
    "        # compute respiration heterotrophic litter FLUXES[12]\n",
    "        @. p.dalec811.respiration_hetero_litter = Y.dalec811.next_litter_pool * (FT(1) - (FT(1) - p.dalec811.temperate * model.parameters.tor_litter) ^ model.temporal.DELTA_T) / model.temporal.DELTA_T\n",
    "        \n",
    "        # compute respiration heterotrophic SOM FLUXES[13]\n",
    "        @. p.dalec811.respiration_hetero_som = Y.dalec811.next_som_pool * (FT(1) - (FT(1) - p.dalec811.temperate * model.parameters.tor_som) ^ model.temporal.DELTA_T) / model.temporal.DELTA_T\n",
    "\n",
    "        # compute litter to som flux\n",
    "        @. p.dalec811.litter_to_som = Y.dalec811.next_litter_pool * (FT(1) - (FT(1) - p.dalec811.temperate * model.parameters.decomposition_rate) ^ model.temporal.DELTA_T) / model.temporal.DELTA_T\n",
    "        \n",
    "        # compute runoff flux\n",
    "        @. p.dalec811.runoff = Y.dalec811.next_water_pool ^ FT(2) / model.parameters.runoff_focal_point / model.temporal.DELTA_T\n",
    "                \n",
    "        less_than_half_sel = map(Y.dalec811.next_water_pool) do v\n",
    "            return Float64(v <= (model.parameters.runoff_focal_point ./ FT(2)))\n",
    "        end\n",
    "        \n",
    "        greater_than_half_sel = map(Y.dalec811.next_water_pool) do v\n",
    "            return Float64(v > (model.parameters.runoff_focal_point ./ FT(2)))\n",
    "        end\n",
    "        \n",
    "        less_than_half_runoff = p.dalec811.runoff .* less_than_half_sel\n",
    "        \n",
    "        greater_than_half_runoff = ((Y.dalec811.next_water_pool .- model.parameters.runoff_focal_point ./ FT(4)) ./ model.temporal.DELTA_T) .* greater_than_half_sel\n",
    "\n",
    "        @. p.dalec811.runoff = less_than_half_runoff + greater_than_half_runoff\n",
    "        \n",
    "        # all pools before including fire.\n",
    "        @. p.dalec811.next_labile_pool = Y.dalec811.next_labile_pool + (p.dalec811.labile_production - p.dalec811.labile_release) * model.temporal.DELTA_T\n",
    "        @. p.dalec811.next_foliar_pool = Y.dalec811.next_foliar_pool + (p.dalec811.leaf_production - p.dalec811.leaf_litter + p.dalec811.labile_release) * model.temporal.DELTA_T\n",
    "        @. p.dalec811.next_root_pool = Y.dalec811.next_root_pool + (p.dalec811.root_production - p.dalec811.root_litter) * model.temporal.DELTA_T\n",
    "        @. p.dalec811.next_wood_pool = Y.dalec811.next_wood_pool + (p.dalec811.wood_production - p.dalec811.wood_litter) * model.temporal.DELTA_T\n",
    "        @. p.dalec811.next_litter_pool = Y.dalec811.next_litter_pool + (p.dalec811.leaf_litter + p.dalec811.root_litter - p.dalec811.respiration_hetero_litter - p.dalec811.litter_to_som) * model.temporal.DELTA_T\n",
    "        @. p.dalec811.next_som_pool = Y.dalec811.next_som_pool + (p.dalec811.litter_to_som - p.dalec811.respiration_hetero_som + p.dalec811.wood_litter) * model.temporal.DELTA_T\n",
    "        @. p.dalec811.next_water_pool = Y.dalec811.next_water_pool - p.dalec811.runoff * model.temporal.DELTA_T + model.atmos.PRECIP(t) * model.temporal.DELTA_T - p.dalec811.ET * model.temporal.DELTA_T\n",
    "    \n",
    "        \n",
    "        @. p.dalec811.labile_fire_combust = p.dalec811.next_labile_pool * model.fire.BURNED_AREA(t) * model.parameters.ligneous_cf / model.temporal.DELTA_T\n",
    "        @. p.dalec811.foliar_fire_combust = p.dalec811.next_foliar_pool * model.fire.BURNED_AREA(t) * model.parameters.foliar_cf / model.temporal.DELTA_T\n",
    "        @. p.dalec811.root_fire_combust = p.dalec811.next_root_pool * model.fire.BURNED_AREA(t) * model.parameters.ligneous_cf / model.temporal.DELTA_T\n",
    "        @. p.dalec811.wood_fire_combust = p.dalec811.next_wood_pool * model.fire.BURNED_AREA(t) * model.parameters.ligneous_cf / model.temporal.DELTA_T\n",
    "        @. p.dalec811.litter_fire_combust = p.dalec811.next_litter_pool * model.fire.BURNED_AREA(t) * (model.parameters.ligneous_cf + model.parameters.foliar_cf) * FT(0.5) / model.temporal.DELTA_T\n",
    "        @. p.dalec811.som_fire_combust = p.dalec811.next_som_pool * model.fire.BURNED_AREA(t) * model.parameters.dom_cf / model.temporal.DELTA_T\n",
    "        \n",
    "        @. p.dalec811.labile_fire_transfer = p.dalec811.next_labile_pool * model.fire.BURNED_AREA(t) *(FT(1) - model.parameters.ligneous_cf) * (FT(1) - model.parameters.resilience) / model.temporal.DELTA_T\n",
    "        @. p.dalec811.foliar_fire_transfer = p.dalec811.next_foliar_pool * model.fire.BURNED_AREA(t) *(FT(1)- model.parameters.foliar_cf) * (FT(1)- model.parameters.resilience) / model.temporal.DELTA_T\n",
    "        @. p.dalec811.root_fire_transfer = p.dalec811.next_root_pool * model.fire.BURNED_AREA(t) *(FT(1) - model.parameters.ligneous_cf) * (FT(1) - model.parameters.resilience) / model.temporal.DELTA_T\n",
    "        @. p.dalec811.wood_fire_transfer = p.dalec811.next_wood_pool * model.fire.BURNED_AREA(t) * (FT(1) - model.parameters.ligneous_cf)*(FT(1) - model.parameters.resilience) / model.temporal.DELTA_T\n",
    "        @. p.dalec811.litter_fire_transfer = p.dalec811.next_litter_pool * model.fire.BURNED_AREA(t) * (FT(1) -(model.parameters.ligneous_cf + model.parameters.foliar_cf) * FT(0.5)) * (FT(1) - model.parameters.resilience) / model.temporal.DELTA_T\n",
    "        \n",
    "        # include fire combust and fire transfer fluxes to the carbon pools/\n",
    "        @. p.dalec811.next_labile_pool = p.dalec811.next_labile_pool - (p.dalec811.labile_fire_combust + p.dalec811.labile_fire_transfer) * model.temporal.DELTA_T\n",
    "        @. p.dalec811.next_foliar_pool = p.dalec811.next_foliar_pool - (p.dalec811.foliar_fire_combust + p.dalec811.foliar_fire_transfer) * model.temporal.DELTA_T\n",
    "        @. p.dalec811.next_root_pool = p.dalec811.next_root_pool - (p.dalec811.root_fire_combust + p.dalec811.root_fire_transfer) * model.temporal.DELTA_T\n",
    "        @. p.dalec811.next_wood_pool = p.dalec811.next_wood_pool - (p.dalec811.wood_fire_combust + p.dalec811.wood_fire_transfer) * model.temporal.DELTA_T\n",
    "        @. p.dalec811.next_litter_pool = p.dalec811.next_litter_pool + (p.dalec811.labile_fire_transfer + p.dalec811.foliar_fire_transfer + p.dalec811.root_fire_transfer - p.dalec811.litter_fire_combust - p.dalec811.litter_fire_transfer) * model.temporal.DELTA_T\n",
    "        @. p.dalec811.next_som_pool = p.dalec811.next_som_pool + (p.dalec811.wood_fire_transfer + p.dalec811.litter_fire_transfer - p.dalec811.som_fire_combust) * model.temporal.DELTA_T\n",
    "    \n",
    "        @. p.dalec811.total_fire_combust = p.dalec811.labile_fire_combust + p.dalec811.foliar_fire_combust + p.dalec811.root_fire_combust + p.dalec811.wood_fire_combust + p.dalec811.litter_fire_combust + p.dalec811.som_fire_combust\n",
    "    \n",
    "        @. p.dalec811.nee = -p.dalec811.GPP + p.dalec811.respiration_auto + p.dalec811.respiration_hetero_litter + p.dalec811.respiration_hetero_som + p.dalec811.total_fire_combust\n",
    "        \n",
    "        @. dY = p - Y\n",
    "    end\n",
    "end"
   ]
  },
  {
   "cell_type": "code",
   "execution_count": 8,
   "id": "7257c913",
   "metadata": {},
   "outputs": [
    {
     "data": {
      "text/plain": [
       "Float64"
      ]
     },
     "execution_count": 8,
     "metadata": {},
     "output_type": "execute_result"
    }
   ],
   "source": [
    "FT = Float64"
   ]
  },
  {
   "cell_type": "code",
   "execution_count": 9,
   "id": "22d924f5",
   "metadata": {},
   "outputs": [
    {
     "data": {
      "text/plain": [
       "\"./data/AU-How_example_param.csv\""
      ]
     },
     "execution_count": 9,
     "metadata": {},
     "output_type": "execute_result"
    }
   ],
   "source": [
    "CBF_PATH = \"./data/AU-How_example_driver.nc.cbf\"\n",
    "PARAM_PATH = \"./data/AU-How_example_param.csv\""
   ]
  },
  {
   "cell_type": "code",
   "execution_count": 106,
   "id": "9101ffd3",
   "metadata": {},
   "outputs": [
    {
     "data": {
      "text/plain": [
       "prepare_drivers (generic function with 1 method)"
      ]
     },
     "execution_count": 106,
     "metadata": {},
     "output_type": "execute_result"
    }
   ],
   "source": [
    "function prepare_drivers(CBF_PATH::String, FT::Type{T}) where {T <: AbstractFloat}\n",
    "    \n",
    "    TIME_data = convert.(FT, ncread(CBF_PATH, \"time\"))\n",
    "    TIME(t::Integer) = TIME_data[t]\n",
    "    \n",
    "    NODAYS = length(TIME_data)\n",
    "\n",
    "    T_MIN_data = convert.(FT, ncread(CBF_PATH, \"T2M_MIN\"))\n",
    "    T_MIN(t::Integer) = T_MIN_data[t]\n",
    "\n",
    "    T_MAX_data = convert.(FT, ncread(CBF_PATH, \"T2M_MAX\"))\n",
    "    T_MAX(t::Integer) = T_MAX_data[t] \n",
    "\n",
    "    RADIATION_data = convert.(FT, ncread(CBF_PATH, \"SSRD\"))\n",
    "    SSRD(t::Integer) = RADIATION_data[t]\n",
    "\n",
    "    ATMOSPHERIC_CO2_data = convert.(FT, ncread(CBF_PATH, \"CO2\"))\n",
    "    ATMOSPHERIC_CO2(t::Integer) = ATMOSPHERIC_CO2_data[t]\n",
    "\n",
    "    DOY_data = convert.(FT, ncread(CBF_PATH, \"DOY\"))\n",
    "    DOY(t::Integer) = DOY_data[t]\n",
    "\n",
    "    BURNED_AREA_data = convert.(FT, ncread(CBF_PATH, \"BURNED_AREA\"))\n",
    "    BURNED_AREA(t::Integer) = BURNED_AREA_data[t]\n",
    "\n",
    "    VPD_data = convert.(FT, ncread(CBF_PATH, \"VPD\"))\n",
    "    VPD(t::Integer) = VPD_data[t]\n",
    "\n",
    "    PRECIPITATION_data = convert.(FT, ncread(CBF_PATH, \"TOTAL_PREC\"))\n",
    "    PRECIPITATION(t::Integer) = PRECIPITATION_data[t]\n",
    "    \n",
    "    LATITUDE = convert.(FT, ncread(CBF_PATH, \"LAT\"))\n",
    "    MEAN_TEMP = mean((T_MAX_data .+ T_MIN_data) ./ 2)\n",
    "    MEAN_PRECIP = mean(PRECIPITATION_data)\n",
    "    DELTA_T = FT(TIME_data[2]-TIME_data[1])\n",
    "\n",
    "        \n",
    "        \n",
    "    atmos = DALEC811AtmosphericDrivers(T_MIN, T_MAX, ATMOSPHERIC_CO2, VPD, PRECIPITATION, LATITUDE, MEAN_TEMP, MEAN_PRECIP, FT)\n",
    "    rad = DALEC811RadiativeDrivers(SSRD, FT)\n",
    "    fire = DALEC811FireDrivers(BURNED_AREA, FT)\n",
    "    temporal = DALEC811TemporalDrivers(TIME, DOY, DELTA_T, NODAYS, FT)\n",
    "    \n",
    "    return atmos, rad, fire, temporal\n",
    "end\n",
    " "
   ]
  },
  {
   "cell_type": "code",
   "execution_count": 107,
   "id": "bd6c3d0e",
   "metadata": {},
   "outputs": [
    {
     "data": {
      "text/plain": [
       "dalec_811_parnames"
      ]
     },
     "execution_count": 107,
     "metadata": {},
     "output_type": "execute_result"
    }
   ],
   "source": [
    "\"\"\"\n",
    "    dalec_811_parmin()\n",
    "\n",
    "Return minimum parameter bounds for the dalec 811 model.\n",
    "\"\"\"\n",
    "function dalec_811_parmin()\n",
    "    parmin=[0.00001, 0.2, 0.01, 0.01, 1.001, 0.000025, 0.0001, 0.0001,\n",
    "    0.0000001, 0.018, 5, 365.25, 0.01, 365.25/12, 365.25, 365.25/12,\n",
    "     5, 1.0, 1.0, 1.0, 1.0, 1.0, 1.0, 10, 1, 1, 1, 0.01, 0.01, 0.01, 0.01, 1.001, 0.01]\n",
    "     return parmin\n",
    "end\n",
    "\n",
    "\"\"\"\n",
    "    dalec_811_parmax()\n",
    "\n",
    "Return maximum parameter bounds for the dalec 811 model.\n",
    "\"\"\"\n",
    "function dalec_811_parmax()\n",
    "   parmax = [0.01, 0.8, 0.5, 1, 8, 0.001, 0.01, 0.01, 0.001, 0.08, 50, 365.25*4,\n",
    "    0.5, 100, 365.25 * 4, 150, 200, 2000.0, 2000.0, 2000.0, 100000.0, 2000.0,\n",
    "     200000.0, 50, 100000, 10000, 10000, 1, 1, 1, 1, 8, 1]\n",
    "   return parmax\n",
    "end\n",
    "\n",
    "\"\"\"\n",
    "    dalec_811_parnames()\n",
    "\n",
    "Return trainable parameter names for the dalec 811 model.\n",
    "\"\"\"\n",
    "function dalec_811_parnames()\n",
    "   parnames = (:decomposition_rate, :f_gpp, :f_fol, :f_root, :leaf_lifespan, :tor_wood, :tor_root,\n",
    "   :tor_litter, :tor_som, :Q10, :canopy_efficiency, :Bday, :f_lab, :clab_release_period,\n",
    "    :Fday, :leaf_fall_period, :LMCA, :Clab, :Cfol, :Croot, :Cwood, :Clitter, :Csom,\n",
    "     :IWUE, :runoff_focal_point, :wilting_point, :initial_water, :foliar_cf, :ligneous_cf,\n",
    "      :dom_cf, :resilience, :lab_lifespan, :moisture_factor)\n",
    "   return parnames\n",
    "end"
   ]
  },
  {
   "cell_type": "code",
   "execution_count": 108,
   "id": "1dd3a03e",
   "metadata": {},
   "outputs": [
    {
     "data": {
      "text/plain": [
       "load_initial_condition!"
      ]
     },
     "execution_count": 108,
     "metadata": {},
     "output_type": "execute_result"
    }
   ],
   "source": [
    "\"\"\"\n",
    "    check_dalec_811_parameter_bounds(params::Vector{FT}) where {FT <: AbstractFloat}\n",
    "\n",
    "Validate if a parameter vector is within the parameter bounds of the dalec 811 model.\n",
    "\"\"\"\n",
    "function check_dalec_811_parameter_bounds(params::Vector{FT}) where {FT <: AbstractFloat}\n",
    "    parnames = dalec_811_parnames()\n",
    "    parmax = dalec_811_parmax()\n",
    "    parmin = dalec_811_parmin()\n",
    "    \n",
    "    npar = length(params)\n",
    "    \n",
    "    if npar != length(parnames)\n",
    "        error(\"The length of the param vector should be 33 for dalec 811 model!\")\n",
    "    end\n",
    "    \n",
    "    for i in 1:npar\n",
    "        if (params[i] < parmin[i] || params[i] > parmax[i])\n",
    "            error(\"Parameter no. \" * string(i) * \": \" * string(parnames[i]) * \" is out of bound with min: \" * string(parmin[i]) * \" and max: \" * string(parmax[i]) * \".\") \n",
    "\n",
    "        end\n",
    "    end\n",
    "end\n",
    "\n",
    "\"\"\"\n",
    "    load_initial_condition!(model::DALEC811{FT}, Y::AbstractVector{FT}) where {FT <: AbstractFloat}\n",
    "\n",
    "Load initia parameters into the Y vector.\n",
    "\"\"\"\n",
    "function load_initial_condition!(model::DALECModel, Y::AbstractVector{FT}) where {FT}\n",
    "    @. Y.dalec811.next_labile_pool = model.parameters.Clab\n",
    "    @. Y.dalec811.next_foliar_pool = model.parameters.Cfol\n",
    "    @. Y.dalec811.next_root_pool = model.parameters.Croot\n",
    "    @. Y.dalec811.next_wood_pool = model.parameters.Cwood\n",
    "    @. Y.dalec811.next_litter_pool = model.parameters.Clitter\n",
    "    @. Y.dalec811.next_som_pool = model.parameters.Csom\n",
    "    @. Y.dalec811.next_water_pool = model.parameters.initial_water\n",
    "    return nothing\n",
    "end"
   ]
  },
  {
   "cell_type": "code",
   "execution_count": 109,
   "id": "c25eeda6",
   "metadata": {},
   "outputs": [
    {
     "data": {
      "text/plain": [
       "ACM{Float64}(0.0156935, 4.22273, 208.868, 0.0453194, 0.37836, 7.19298, 0.011136, 2.1001, 0.789798, -2.0, 1.0)"
      ]
     },
     "execution_count": 109,
     "metadata": {},
     "output_type": "execute_result"
    }
   ],
   "source": [
    "atmos, rad, fire, temporal = prepare_drivers(CBF_PATH, FT);\n",
    "d = ClimaLSM.Domains.Point(; z_sfc=0.0)\n",
    "dalec_params = FT.(CSV.read(PARAM_PATH, DataFrame).dalec811_params);\n",
    "check_dalec_811_parameter_bounds(dalec_params)\n",
    "parameters = DALEC811Parameters(dalec_params...);\n",
    "photosynthesis = ACM(FT)"
   ]
  },
  {
   "cell_type": "code",
   "execution_count": 110,
   "id": "7008b8aa",
   "metadata": {},
   "outputs": [],
   "source": [
    "model = DALECModel(atmos, rad, fire, temporal, photosynthesis, parameters, d);"
   ]
  },
  {
   "cell_type": "code",
   "execution_count": 111,
   "id": "9e823b95",
   "metadata": {},
   "outputs": [
    {
     "data": {
      "text/plain": [
       "([0.0, 0.0, 0.0, 0.0, 0.0, 0.0, 0.0, 0.0, 0.0, 0.0  …  0.0, 0.0, 0.0, 0.0, 0.0, 0.0, 0.0, 0.0, 0.0, 0.0], [0.0, 0.0, 0.0, 0.0, 0.0, 0.0, 0.0, 0.0, 0.0, 0.0  …  0.0, 0.0, 0.0, 0.0, 0.0, 0.0, 0.0, 0.0, 0.0, 0.0], ClimaCore.Geometry.ZPoint{Float64}-valued Field:\n",
       "  z: [0.0])"
      ]
     },
     "execution_count": 111,
     "metadata": {},
     "output_type": "execute_result"
    }
   ],
   "source": [
    "Y, p, coord = ClimaLSM.initialize(model)"
   ]
  },
  {
   "cell_type": "code",
   "execution_count": 112,
   "id": "49b7050d",
   "metadata": {},
   "outputs": [],
   "source": [
    "load_initial_condition!(model, Y);"
   ]
  },
  {
   "cell_type": "code",
   "execution_count": 184,
   "id": "8e71640a",
   "metadata": {},
   "outputs": [
    {
     "data": {
      "text/plain": [
       "(::var\"#rhs!#109\"{Float64, DALECModel{Float64, DALEC811AtmosphericDrivers{Float64, var\"#T_MIN#55\"{Vector{Float64}}, var\"#T_MAX#56\"{Vector{Float64}}, var\"#ATMOSPHERIC_CO2#58\"{Vector{Float64}}, var\"#VPD#61\"{Vector{Float64}}, var\"#PRECIPITATION#62\"{Vector{Float64}}}, DALEC811RadiativeDrivers{Float64, var\"#SSRD#57\"{Vector{Float64}}}, DALEC811FireDrivers{Float64, var\"#BURNED_AREA#60\"{Vector{Float64}}}, DALEC811TemporalDrivers{Float64, var\"#TIME#54\"{Vector{Float64}}, var\"#DOY#59\"{Vector{Float64}}}, ACM{Float64}, DALEC811Parameters{Float64}, ClimaLSM.Domains.Point{Float64, ClimaCore.Spaces.PointSpace{ClimaCore.DataLayouts.DataF{ClimaCore.Geometry.LocalGeometry{(3,), ClimaCore.Geometry.ZPoint{Float64}, Float64, StaticArraysCore.SMatrix{1, 1, Float64, 1}}, Vector{Float64}}}}}}) (generic function with 1 method)"
      ]
     },
     "execution_count": 184,
     "metadata": {},
     "output_type": "execute_result"
    }
   ],
   "source": [
    "trange=(0,168)\n",
    "ode_function! = ClimaLSM.make_rhs(model)"
   ]
  },
  {
   "cell_type": "code",
   "execution_count": 185,
   "id": "69b29305",
   "metadata": {},
   "outputs": [
    {
     "data": {
      "text/plain": [
       "39×169 Matrix{Float64}:\n",
       "     0.0            2.86206     …      1.55578          2.19218\n",
       "     0.0            6.93571            4.37538          5.94059\n",
       "     0.0            2.30134            4.04736          4.03662\n",
       "     0.0            0.95512            1.15149          1.16402\n",
       "     0.0            1.46512            0.924271         1.25491\n",
       "     0.0            0.0574538   …      0.0362447        0.0492104\n",
       "     0.0            1.15088            0.726033         0.985757\n",
       "     0.0            0.194172           0.122493         0.166313\n",
       "     0.0            4.06807            2.56634          3.4844\n",
       "     0.0            0.0202128          0.0102107        0.0150604\n",
       "     0.0            0.00117966  …      0.000696291      0.00108749\n",
       "     0.0            1.8802             1.22918          1.8924\n",
       "     0.0            1.59079            0.501231         0.973724\n",
       "     ⋮                          ⋱                   \n",
       "     0.0            0.0                0.0              0.0\n",
       "     0.0            0.0                0.0              0.0\n",
       "     0.0            0.0                0.0              0.0\n",
       "     0.0            0.0         …      0.0              0.0\n",
       "     0.0           -3.902             -1.50222         -2.72511\n",
       "  1621.7         1599.5             1768.16          1740.57\n",
       "   104.606        115.164             80.1223         109.582\n",
       "    14.4339        16.7734            13.4723          15.2018\n",
       " 71858.0        71921.7         …  75359.7          75402.7\n",
       "   110.839        142.659            105.513          115.38\n",
       "     1.78158e5      1.7819e5           1.84279e5        1.84305e5\n",
       "  1397.49        1705.14            1272.36          1371.95"
      ]
     },
     "execution_count": 185,
     "metadata": {},
     "output_type": "execute_result"
    }
   ],
   "source": [
    "prob = DiscreteProblem(ode_function!, Y, trange, p)\n",
    "sol=Array(solve(prob, FunctionMap{true}()))"
   ]
  },
  {
   "cell_type": "code",
   "execution_count": 116,
   "id": "90c9fd03",
   "metadata": {},
   "outputs": [],
   "source": [
    "\"\"\"\n",
    "\n",
    "lab_release_factor\n",
    "\n",
    "    Compute the labile release factor.\n",
    "\n",
    "## Arguments:\n",
    "- `t::Real`: time (in days)\n",
    "- `lab_lifespan`: labile lifespan\n",
    "- `clab_release_period`: Clab Release period\n",
    "- `Bday`: Bday\n",
    "- `FT::Type`: Float type, either Float32 or Float64\n",
    "\"\"\"\n",
    "function lab_release_factor(t, lab_lifespan, clab_release_period, Bday, FT)\n",
    "    fl = (log(lab_lifespan) - log(lab_lifespan - 1)) * FT(0.5)\n",
    "    wl = clab_release_period * sqrt(FT(2)) / FT(2)\n",
    "    osl = offset(lab_lifespan, wl, FT)\n",
    "    sf = FT(365.25) / FT(π)\n",
    "    return (FT(2) / sqrt(FT(π))) * (fl / wl) * exp( - (sin((t - Bday + osl) / sf) * sf / wl)^2)\n",
    "end;\n",
    "\n",
    "\n",
    "\"\"\"\n",
    "\n",
    "leaf_fall_factor\n",
    "\n",
    "    Compute the leaf fall factor.\n",
    "\n",
    "## Arguments:\n",
    "- `t::Real`: time (in days)\n",
    "- `leaf_lifespan`: leaf lifespan\n",
    "- `leaf_fall_period`: leaf fall period\n",
    "- `Fday`: Fday\n",
    "- `FT::Type`: Float type, either Float32 or Float64\n",
    "\"\"\"\n",
    "function leaf_fall_factor(t, leaf_lifespan, leaf_fall_period, Fday, FT)\n",
    "    ff = (log(leaf_lifespan) - log(leaf_lifespan - 1)) * FT(0.5)\n",
    "    wf = leaf_fall_period * sqrt(FT(2)) / 2\n",
    "\n",
    "    osf = offset(leaf_lifespan, wf, FT)\n",
    "    sf = FT(365.25)/FT(π)\n",
    "    return (2/sqrt(FT(π)))*(ff/wf)*exp(-(sin((t-Fday+osf)/sf)*sf/wf)^2)\n",
    "end\n",
    "\n",
    "function offset(L, w, FT)\n",
    "    mxc = [FT(0.000023599784710),FT(0.000332730053021),FT(0.000901865258885),FT(-0.005437736864888),FT(-0.020836027517787), FT(0.126972018064287),FT(-0.188459767342504)]\n",
    "    lf = log(L-1)\n",
    "    os = mxc[1]*lf^6+mxc[2]*lf^5+mxc[3]*lf^4+mxc[4]*lf^3+mxc[5]*lf^2+mxc[6]*lf+mxc[7]\n",
    "    os = os * w\n",
    "    return os\n",
    "end;\n"
   ]
  },
  {
   "cell_type": "code",
   "execution_count": 142,
   "id": "15e89d40",
   "metadata": {},
   "outputs": [
    {
     "data": {
      "text/plain": [
       "(:values, :space)"
      ]
     },
     "execution_count": 142,
     "metadata": {},
     "output_type": "execute_result"
    }
   ],
   "source": [
    "fieldnames(typeof(Y.dalec811.next_water_pool))"
   ]
  },
  {
   "cell_type": "code",
   "execution_count": 152,
   "id": "decbeb85",
   "metadata": {},
   "outputs": [
    {
     "data": {
      "text/plain": [
       "Float64-valued Field:\n",
       "  [1397.49]"
      ]
     },
     "execution_count": 152,
     "metadata": {},
     "output_type": "execute_result"
    }
   ],
   "source": [
    "Float64.(Y.dalec811.next_water_pool)"
   ]
  },
  {
   "cell_type": "code",
   "execution_count": 153,
   "id": "874b6b33",
   "metadata": {},
   "outputs": [
    {
     "data": {
      "text/plain": [
       "Float64-valued Field:\n",
       "  [1397.49]"
      ]
     },
     "execution_count": 153,
     "metadata": {},
     "output_type": "execute_result"
    }
   ],
   "source": [
    "Y.dalec811.next_water_pool"
   ]
  },
  {
   "cell_type": "code",
   "execution_count": 156,
   "id": "cb23570f",
   "metadata": {},
   "outputs": [
    {
     "data": {
      "text/plain": [
       "Float64-valued Field:\n",
       "  [0.0]"
      ]
     },
     "execution_count": 156,
     "metadata": {},
     "output_type": "execute_result"
    }
   ],
   "source": [
    "map(Y.dalec811.next_water_pool) do v\n",
    "    return Float64(v < 0)\n",
    "end"
   ]
  },
  {
   "cell_type": "code",
   "execution_count": 162,
   "id": "3b249b7b",
   "metadata": {},
   "outputs": [
    {
     "data": {
      "text/plain": [
       "Float64-valued Field:\n",
       "  [1397.49]"
      ]
     },
     "execution_count": 162,
     "metadata": {},
     "output_type": "execute_result"
    }
   ],
   "source": [
    "Y.dalec811.next_water_pool"
   ]
  },
  {
   "cell_type": "code",
   "execution_count": null,
   "id": "66c090b7",
   "metadata": {},
   "outputs": [],
   "source": [
    "dalec_vars = prognostic_vars(model)\n",
    "lai_plot = plot(sol[1, 2:dalec.NODAYS+1], ylabel=dalec_vars[1], xlabel=\"month\", label=nothing)\n",
    "gpp_plot = plot(sol[2, 2:dalec.NODAYS+1], ylabel=dalec_vars[2], xlabel=\"month\", label=nothing)\n",
    "et_plot = plot(sol[3, 2:dalec.NODAYS+1], ylabel=dalec_vars[3], xlabel=\"month\", label=nothing)\n",
    "nee_plot = plot(sol[32, 2:dalec.NODAYS+1], ylabel=dalec_vars[32], xlabel=\"month\", label=nothing)\n",
    "plot(lai_plot, gpp_plot, et_plot, nee_plot)"
   ]
  }
 ],
 "metadata": {
  "kernelspec": {
   "display_name": "Julia 1.7.3",
   "language": "julia",
   "name": "julia-1.7"
  },
  "language_info": {
   "file_extension": ".jl",
   "mimetype": "application/julia",
   "name": "julia",
   "version": "1.7.3"
  }
 },
 "nbformat": 4,
 "nbformat_minor": 5
}
