{
 "cells": [
  {
   "cell_type": "code",
   "execution_count": 1,
   "id": "3f148c53",
   "metadata": {},
   "outputs": [
    {
     "name": "stderr",
     "output_type": "stream",
     "text": [
      "\u001b[32m\u001b[1m  Activating\u001b[22m\u001b[39m project at `~/.julia/dev/ClimaLSM.jl`\n"
     ]
    }
   ],
   "source": [
    "using Pkg\n",
    "Pkg.activate(\"../..\")\n",
    "using ClimaLSM\n",
    "using ClimaLSM.DALEC\n",
    "using CSV\n",
    "using DataFrames\n",
    "using NetCDF\n",
    "using OrdinaryDiffEq: solve, DiscreteProblem, FunctionMap\n",
    "using Plots\n",
    "Plots.pyplot();"
   ]
  },
  {
   "cell_type": "code",
   "execution_count": 2,
   "id": "202e32d5",
   "metadata": {},
   "outputs": [
    {
     "data": {
      "text/plain": [
       "prepare_drivers"
      ]
     },
     "execution_count": 2,
     "metadata": {},
     "output_type": "execute_result"
    }
   ],
   "source": [
    "using NetCDF\n",
    "\"\"\"\n",
    "    prepare_drivers(CBF_PATH::String, FT::Type{T}) where {T <: AbstractFloat}\n",
    "\n",
    "Prepare the drivers from DALEC811 model.\n",
    "    - `CBF_PATH::String`: a String to the CBF file \n",
    "    - `FT::Type{T}`: Float type, should be a subtype of AbstractFloat\n",
    "\"\"\"\n",
    "function prepare_drivers(CBF_PATH::String, FT::Type{T}) where {T <: AbstractFloat}\n",
    "    \n",
    "    TIME_data = convert.(FT, ncread(CBF_PATH, \"time\"))\n",
    "    TIME(t::Integer) = TIME_data[t]\n",
    "    \n",
    "    NODAYS = length(TIME_data)\n",
    "\n",
    "    T_MIN_data = convert.(FT, ncread(CBF_PATH, \"T2M_MIN\"))\n",
    "    T_MIN(t::Integer) = T_MIN_data[t]\n",
    "\n",
    "    T_MAX_data = convert.(FT, ncread(CBF_PATH, \"T2M_MAX\"))\n",
    "    T_MAX(t::Integer) = T_MAX_data[t] \n",
    "\n",
    "    RADIATION_data = convert.(FT, ncread(CBF_PATH, \"SSRD\"))\n",
    "    SSRD(t::Integer) = RADIATION_data[t]\n",
    "\n",
    "    ATMOSPHERIC_CO2_data = convert.(FT, ncread(CBF_PATH, \"CO2\"))\n",
    "    ATMOSPHERIC_CO2(t::Integer) = ATMOSPHERIC_CO2_data[t]\n",
    "\n",
    "    DOY_data = convert.(FT, ncread(CBF_PATH, \"DOY\"))\n",
    "    DOY(t::Integer) = DOY_data[t]\n",
    "\n",
    "    BURNED_AREA_data = convert.(FT, ncread(CBF_PATH, \"BURNED_AREA\"))\n",
    "    BURNED_AREA(t::Integer) = BURNED_AREA_data[t]\n",
    "\n",
    "    VPD_data = convert.(FT, ncread(CBF_PATH, \"VPD\"))\n",
    "    VPD(t::Integer) = VPD_data[t]\n",
    "\n",
    "    PRECIPITATION_data = convert.(FT, ncread(CBF_PATH, \"TOTAL_PREC\"))\n",
    "    PRECIPITATION(t::Integer) = PRECIPITATION_data[t]\n",
    "    \n",
    "    LATITUDE = convert.(FT, ncread(CBF_PATH, \"LAT\"))\n",
    "    MEAN_TEMP = sum((T_MAX_data .+ T_MIN_data) ./ 2) / length(T_MAX_data)\n",
    "    MEAN_PRECIP = sum(PRECIPITATION_data) / length(PRECIPITATION_data)\n",
    "    DELTA_T = FT(TIME_data[2]-TIME_data[1])\n",
    "\n",
    "    atmos = DALEC811AtmosphericDrivers(T_MIN, T_MAX, ATMOSPHERIC_CO2, VPD, PRECIPITATION, LATITUDE, MEAN_TEMP, MEAN_PRECIP, FT)\n",
    "    rad = DALEC811RadiativeDrivers(SSRD, FT)\n",
    "    fire = DALEC811FireDrivers(BURNED_AREA, FT)\n",
    "    temporal = DALEC811TemporalDrivers(TIME, DOY, DELTA_T, NODAYS, FT)\n",
    "    \n",
    "    return atmos, rad, fire, temporal\n",
    "end"
   ]
  },
  {
   "cell_type": "code",
   "execution_count": 3,
   "id": "b5b60cbc",
   "metadata": {},
   "outputs": [
    {
     "data": {
      "text/plain": [
       "\"./data/AU-How_example_param.csv\""
      ]
     },
     "execution_count": 3,
     "metadata": {},
     "output_type": "execute_result"
    }
   ],
   "source": [
    "FT = Float64\n",
    "CBF_PATH = \"./data/AU-How_example_driver.nc.cbf\"\n",
    "PARAM_PATH = \"./data/AU-How_example_param.csv\""
   ]
  },
  {
   "cell_type": "code",
   "execution_count": null,
   "id": "3fb9c899",
   "metadata": {},
   "outputs": [],
   "source": [
    "atmos, rad, fire, temporal = prepare_drivers(CBF_PATH, FT);\n",
    "d = ClimaLSM.Domains.Point(; z_sfc=0.0)\n",
    "dalec_params = FT.(CSV.read(PARAM_PATH, DataFrame).dalec811_params);\n",
    "check_dalec_811_parameter_bounds(dalec_params)\n",
    "parameters = DALEC811Parameters(dalec_params...);\n",
    "photosynthesis = ACM(FT)\n",
    "\n",
    "model = DALECModel(atmos, rad, fire, temporal, photosynthesis, parameters, d);\n",
    "Y, p, coord = ClimaLSM.initialize(model);\n",
    "load_initial_condition!(model, Y);\n",
    "\n",
    "trange=(0,model.temporal.NODAYS)\n",
    "ode_function! = ClimaLSM.make_rhs(model)\n",
    "prob = DiscreteProblem(ode_function!, Y, trange, p)\n",
    "sol=solve(prob, FunctionMap{true}());"
   ]
  },
  {
   "cell_type": "code",
   "execution_count": null,
   "id": "b66755a1",
   "metadata": {},
   "outputs": [],
   "source": [
    "dalec_vars = prognostic_vars(model)\n",
    "lai_plot = plot(sol[1, 2:model.temporal.NODAYS+1], ylabel=dalec_vars[1], xlabel=\"month\", label=nothing)\n",
    "gpp_plot = plot(sol[2, 2:model.temporal.NODAYS+1], ylabel=dalec_vars[2], xlabel=\"month\", label=nothing)\n",
    "et_plot = plot(sol[3, 2:model.temporal.NODAYS+1], ylabel=dalec_vars[3], xlabel=\"month\", label=nothing)\n",
    "nee_plot = plot(sol[32, 2:model.temporal.NODAYS+1], ylabel=dalec_vars[32], xlabel=\"month\", label=nothing)\n",
    "plot(lai_plot, gpp_plot, et_plot, nee_plot)"
   ]
  }
 ],
 "metadata": {
  "kernelspec": {
   "display_name": "Julia 1.7.3",
   "language": "julia",
   "name": "julia-1.7"
  },
  "language_info": {
   "file_extension": ".jl",
   "mimetype": "application/julia",
   "name": "julia",
   "version": "1.7.3"
  }
 },
 "nbformat": 4,
 "nbformat_minor": 5
}
